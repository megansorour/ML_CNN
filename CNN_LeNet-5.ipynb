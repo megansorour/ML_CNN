{
 "cells": [
  {
   "cell_type": "markdown",
   "metadata": {
    "_cell_guid": "b1076dfc-b9ad-4769-8c92-a6c4dae69d19",
    "_uuid": "8f2839f25d086af736a60e9eeb907d3b93b6e0e5"
   },
   "source": [
    "# Accuracy=99.75% using 25 Million Training Images!!\n",
    "It's amazing that convolutional neural networks can classify handwritten digits so accurately. In this kernel, we witness an ensemble of 15 CNNs classify Kaggle's MNIST digits after training on Kaggle's 42,000 images in \"train.csv\" plus 25 million more images created by rotating, scaling, and shifting Kaggle's images. Learning from 25,042,000 images, this ensemble of CNNs achieves 99.75% classification accuracy. This kernel uses ideas from the best published models found on the internet. Advanced techniques include data augmentation, nonlinear convolution layers, learnable pooling layers, ReLU activation, ensembling, bagging, decaying learning rates, dropout, batch normalization, and adam optimization. "
   ]
  },
  {
   "cell_type": "code",
   "execution_count": 1,
   "metadata": {
    "_cell_guid": "79c7e3d0-c299-4dcb-8224-4455121ee9b0",
    "_kg_hide-input": true,
    "_kg_hide-output": true,
    "_uuid": "d629ff2d2480ee46fbb7e2d37f6b5fab8052498a"
   },
   "outputs": [
    {
     "name": "stderr",
     "output_type": "stream",
     "text": [
      "/Users/megan/opt/anaconda3/lib/python3.9/site-packages/scipy/__init__.py:146: UserWarning: A NumPy version >=1.16.5 and <1.23.0 is required for this version of SciPy (detected version 1.26.4\n",
      "  warnings.warn(f\"A NumPy version >={np_minversion} and <{np_maxversion}\"\n"
     ]
    }
   ],
   "source": [
    "# LOAD LIBRARIES\n",
    "import pandas as pd\n",
    "import numpy as np\n",
    "from sklearn.model_selection import train_test_split\n",
    "from sklearn.metrics import confusion_matrix,classification_report\n",
    "from keras.utils.np_utils import to_categorical\n",
    "from keras.models import Sequential\n",
    "from keras.layers import Dense, Dropout, Flatten, Conv2D, MaxPool2D, BatchNormalization, AveragePooling2D\n",
    "from keras.preprocessing.image import ImageDataGenerator\n",
    "from keras.callbacks import LearningRateScheduler\n",
    "from keras import regularizers\n",
    "import matplotlib.pyplot as plt\n",
    "import seaborn as sns"
   ]
  },
  {
   "cell_type": "markdown",
   "metadata": {
    "_uuid": "cd31c62c12088bfa6f2b26dcecc714182627c767"
   },
   "source": [
    "# Load Kaggle's 42,000 training images"
   ]
  },
  {
   "cell_type": "code",
   "execution_count": 2,
   "metadata": {
    "_uuid": "d71b3fa2b10620dc8870352fc18d4548f824a88a"
   },
   "outputs": [],
   "source": [
    "# LOAD THE DATA\n",
    "train = pd.read_csv(\"./input/train.csv\")\n",
    "test = pd.read_csv(\"./input/test.csv\")"
   ]
  },
  {
   "cell_type": "code",
   "execution_count": 3,
   "metadata": {
    "_kg_hide-input": true,
    "_uuid": "b3c56055d1ba56d28d982f9647c33439c46753ff"
   },
   "outputs": [],
   "source": [
    "# PREPARE DATA FOR NEURAL NETWORK\n",
    "Y_train = train[\"label\"]                             #extracting labels\n",
    "X_train = train.drop(labels = [\"label\"],axis = 1)\n",
    "X_train = X_train / 255.0                            #normalizing pixel value\n",
    "X_test = test / 255.0\n",
    "X_train = X_train.values.reshape(-1,28,28,1)         #reshapes to 4D array\n",
    "X_test = X_test.values.reshape(-1,28,28,1)\n",
    "Y_train = to_categorical(Y_train, num_classes = 10)"
   ]
  },
  {
   "cell_type": "code",
   "execution_count": 4,
   "metadata": {
    "_kg_hide-input": true,
    "_uuid": "b95ca2c1e71cb5457684eff3c35bb8d68b4a0f97"
   },
   "outputs": [],
   "source": [
    "\n",
    "# # PREVIEW IMAGES\n",
    "# plt.figure(figsize=(15,4.5))\n",
    "# for i in range(30):  \n",
    "#     plt.subplot(3, 10, i+1)\n",
    "#     plt.imshow(X_train[i].reshape((28,28)),cmap=plt.cm.binary)\n",
    "#     plt.axis('off')\n",
    "# plt.subplots_adjust(wspace=-0.1, hspace=-0.1)\n",
    "# plt.show()"
   ]
  },
  {
   "cell_type": "markdown",
   "metadata": {
    "_uuid": "cfcb89d7d2dab632986e80d9f68d194c3c1c9e9f"
   },
   "source": [
    "# Generate 25 million more images!!\n",
    "by randomly rotating, scaling, and shifting Kaggle's 42,000 images."
   ]
  },
  {
   "cell_type": "code",
   "execution_count": 5,
   "metadata": {
    "_uuid": "1e61e07d14b9b012748fdaac9eaf02e5263a475e"
   },
   "outputs": [],
   "source": [
    "# CREATE MORE IMAGES VIA DATA AUGMENTATION\n",
    "datagen = ImageDataGenerator(\n",
    "        rotation_range=10,  \n",
    "        zoom_range = 0.10,  \n",
    "        width_shift_range=0.1, \n",
    "        height_shift_range=0.1)\n",
    "\n",
    "#maybe use this as a separate test set?"
   ]
  },
  {
   "cell_type": "code",
   "execution_count": 6,
   "metadata": {
    "_kg_hide-input": true,
    "_uuid": "fcf6daaae4424b95978856d7e75271c97b971c71"
   },
   "outputs": [],
   "source": [
    "# PREVIEW AUGMENTED IMAGES\n",
    "#X_train3 = X_train[9,].reshape((1,28,28,1))\n",
    "#Y_train3 = Y_train[9,].reshape((1,10))\n",
    "#plt.figure(figsize=(15,4.5))\n",
    "#for i in range(30):  \n",
    "#    plt.subplot(3, 10, i+1)\n",
    "#    X_train2, Y_train2 = next(datagen.flow(X_train3,Y_train3))\n",
    "#    plt.imshow(X_train2[0].reshape((28,28)),cmap=plt.cm.binary)\n",
    "#    plt.axis('off')\n",
    "#    if (i + 1) % 10 == 0:  # Reset X_train3 every 10 iterations\n",
    "#        X_train3 = X_train[(i + 1) // 10,].reshape((1,28,28,1))\n",
    "#plt.subplots_adjust(wspace=-0.1, hspace=-0.1)\n",
    "#plt.show()\n"
   ]
  },
  {
   "cell_type": "markdown",
   "metadata": {
    "_uuid": "9ea116cd3688cb26ac79b9fecc7309a1aebf3b63"
   },
   "source": [
    "# Build 15 Convolutional Neural Networks!"
   ]
  },
  {
   "cell_type": "code",
   "execution_count": 7,
   "metadata": {},
   "outputs": [
    {
     "name": "stderr",
     "output_type": "stream",
     "text": [
      "2024-05-15 16:29:41.762689: I tensorflow/core/platform/cpu_feature_guard.cc:193] This TensorFlow binary is optimized with oneAPI Deep Neural Network Library (oneDNN) to use the following CPU instructions in performance-critical operations:  SSE4.1 SSE4.2\n",
      "To enable them in other operations, rebuild TensorFlow with the appropriate compiler flags.\n"
     ]
    }
   ],
   "source": [
    "# BUILD CONVOLUTIONAL NEURAL NETWORKS\n",
    "\n",
    "# Notes:\n",
    "# Relu or tanh activation? -> apparently relu accelerates convergence but it looks like tanh is more common for LeNet-5\n",
    "# Which compiler do we use\n",
    "\n",
    "# Define a sequential model\n",
    "model = Sequential()\n",
    "\n",
    "# C1 Convolution Layer\n",
    "model.add(Conv2D(filters=6, strides=(1,1), kernel_size=(5,5), activation='relu', input_shape=(28, 28, 1)))\n",
    "\n",
    "# S2 SubSampling Layer\n",
    "model.add(AveragePooling2D(pool_size=(2,2), strides=(2,2)))\n",
    "\n",
    "# C3 Convolution Layer\n",
    "model.add(Conv2D(filters=6, strides=(1,1), kernel_size=(5,5), activation='relu'))\n",
    "\n",
    "# S4 SubSampling Layer\n",
    "model.add(AveragePooling2D(pool_size=(2,2), strides=(2,2)))\n",
    "\n",
    "# C5 Fully Connected Layer\n",
    "model.add(Dense(units=120, activation='relu'))\n",
    "\n",
    "# Flatten the output so that we can connect it with the fully connected layers by converting it into a 1D Array\n",
    "model.add(Flatten())\n",
    "\n",
    "# FC6 Fully Connected Layers\n",
    "model.add(Dense(units=84, activation='relu'))\n",
    "\n",
    "# Output Layer\n",
    "model.add(Dense(units=10, activation='softmax'))\n",
    "\n",
    "# Compile the Model\n",
    "#model.compile(loss='categorical_crossentropy', optimizer=SGD(lr=0.1, momentum=0.0, decay=0.0), metrics=['accuracy'])\n",
    "model.compile(optimizer=\"adam\", loss=\"categorical_crossentropy\", metrics=[\"accuracy\"])\n",
    "\n",
    "\n"
   ]
  },
  {
   "cell_type": "markdown",
   "metadata": {
    "_uuid": "843d2cb58465b81404c47559ceaf96c139ff82da"
   },
   "source": [
    "# Architectural highlights\n",
    "![](https://raw.githubusercontent.com/cdeotte/Kaggle_Images/main/2020/LeNet5.png)\n",
    "\n",
    "The CNNs in this kernel follow [LeNet5's][1] design (pictured above) with the following improvements:  \n",
    "* Two stacked 3x3 filters replace the single 5x5 filters. These become nonlinear 5x5 convolutions\n",
    "* A convolution with stride 2 replaces pooling layers. These become learnable pooling layers.\n",
    "* ReLU activation replaces sigmoid.\n",
    "* Batch normalization is added\n",
    "* Dropout is added\n",
    "* More feature maps (channels) are added\n",
    "* An ensemble of 15 CNNs with bagging is used  \n",
    "  \n",
    "Experiments [(here)][2] show that each of these changes improve classification accuracy.\n",
    "\n",
    "[1]:http://yann.lecun.com/exdb/publis/pdf/lecun-01a.pdf\n",
    "[2]:https://www.kaggle.com/cdeotte/how-to-choose-cnn-architecture-mnist"
   ]
  },
  {
   "cell_type": "markdown",
   "metadata": {
    "_uuid": "e433661c7762b947c0fbfc4ad3f5e1d2e056312c"
   },
   "source": [
    "# Train 15 CNNs"
   ]
  },
  {
   "cell_type": "code",
   "execution_count": 8,
   "metadata": {},
   "outputs": [
    {
     "name": "stdout",
     "output_type": "stream",
     "text": [
      "42000\n",
      "42000\n",
      "37800\n",
      "37800\n",
      "37422\n",
      "37422\n"
     ]
    }
   ],
   "source": [
    "# DECREASE LEARNING RATE EACH EPOCH\n",
    "annealer = LearningRateScheduler(lambda x: 1e-3 * 0.95 ** x)\n",
    "\n",
    "# TRAIN NETWORKS\n",
    "history = [0] * 1\n",
    "epochs = 25\n",
    "\n",
    "# Split the data into training and validation sets\n",
    "print(len(X_train))\n",
    "print(len(Y_train))\n",
    "X_train2, X_val2, Y_train2, Y_val2 = train_test_split(X_train, Y_train, test_size=0.1)\n",
    "print(len(X_train2))\n",
    "print(len(Y_train2))\n",
    "X_train2, X_test2, Y_train2, Y_test2 = train_test_split(X_train2, Y_train2, test_size=0.01)\n",
    "print(len(X_train2))\n",
    "print(len(Y_train2))\n",
    "\n",
    "\n"
   ]
  },
  {
   "cell_type": "code",
   "execution_count": 9,
   "metadata": {},
   "outputs": [
    {
     "name": "stdout",
     "output_type": "stream",
     "text": [
      "Epoch 1/25\n",
      "585/585 - 4s - loss: 0.3625 - accuracy: 0.8921 - val_loss: 0.1380 - val_accuracy: 0.9581 - lr: 0.0010 - 4s/epoch - 7ms/step\n",
      "Epoch 2/25\n",
      "585/585 - 4s - loss: 0.1129 - accuracy: 0.9650 - val_loss: 0.1032 - val_accuracy: 0.9669 - lr: 9.5000e-04 - 4s/epoch - 6ms/step\n",
      "Epoch 3/25\n",
      "585/585 - 4s - loss: 0.0793 - accuracy: 0.9752 - val_loss: 0.0764 - val_accuracy: 0.9748 - lr: 9.0250e-04 - 4s/epoch - 7ms/step\n",
      "Epoch 4/25\n",
      "585/585 - 4s - loss: 0.0628 - accuracy: 0.9807 - val_loss: 0.0600 - val_accuracy: 0.9814 - lr: 8.5737e-04 - 4s/epoch - 7ms/step\n",
      "Epoch 5/25\n",
      "585/585 - 4s - loss: 0.0513 - accuracy: 0.9831 - val_loss: 0.0683 - val_accuracy: 0.9776 - lr: 8.1451e-04 - 4s/epoch - 6ms/step\n",
      "Epoch 6/25\n",
      "585/585 - 4s - loss: 0.0431 - accuracy: 0.9858 - val_loss: 0.0567 - val_accuracy: 0.9819 - lr: 7.7378e-04 - 4s/epoch - 6ms/step\n",
      "Epoch 7/25\n",
      "585/585 - 4s - loss: 0.0366 - accuracy: 0.9880 - val_loss: 0.0526 - val_accuracy: 0.9848 - lr: 7.3509e-04 - 4s/epoch - 6ms/step\n",
      "Epoch 8/25\n",
      "585/585 - 4s - loss: 0.0324 - accuracy: 0.9895 - val_loss: 0.0672 - val_accuracy: 0.9807 - lr: 6.9834e-04 - 4s/epoch - 7ms/step\n",
      "Epoch 9/25\n",
      "585/585 - 4s - loss: 0.0284 - accuracy: 0.9899 - val_loss: 0.0526 - val_accuracy: 0.9838 - lr: 6.6342e-04 - 4s/epoch - 7ms/step\n",
      "Epoch 10/25\n",
      "585/585 - 4s - loss: 0.0231 - accuracy: 0.9923 - val_loss: 0.0531 - val_accuracy: 0.9826 - lr: 6.3025e-04 - 4s/epoch - 6ms/step\n",
      "Epoch 11/25\n",
      "585/585 - 4s - loss: 0.0209 - accuracy: 0.9931 - val_loss: 0.0491 - val_accuracy: 0.9852 - lr: 5.9874e-04 - 4s/epoch - 6ms/step\n",
      "Epoch 12/25\n",
      "585/585 - 4s - loss: 0.0184 - accuracy: 0.9943 - val_loss: 0.0594 - val_accuracy: 0.9826 - lr: 5.6880e-04 - 4s/epoch - 6ms/step\n",
      "Epoch 13/25\n",
      "585/585 - 4s - loss: 0.0151 - accuracy: 0.9956 - val_loss: 0.0507 - val_accuracy: 0.9855 - lr: 5.4036e-04 - 4s/epoch - 6ms/step\n",
      "Epoch 14/25\n",
      "585/585 - 4s - loss: 0.0144 - accuracy: 0.9953 - val_loss: 0.0514 - val_accuracy: 0.9848 - lr: 5.1334e-04 - 4s/epoch - 6ms/step\n",
      "Epoch 15/25\n",
      "585/585 - 4s - loss: 0.0119 - accuracy: 0.9964 - val_loss: 0.0509 - val_accuracy: 0.9867 - lr: 4.8767e-04 - 4s/epoch - 6ms/step\n",
      "Epoch 16/25\n",
      "585/585 - 4s - loss: 0.0100 - accuracy: 0.9969 - val_loss: 0.0554 - val_accuracy: 0.9862 - lr: 4.6329e-04 - 4s/epoch - 6ms/step\n",
      "Epoch 17/25\n",
      "585/585 - 4s - loss: 0.0082 - accuracy: 0.9977 - val_loss: 0.0521 - val_accuracy: 0.9838 - lr: 4.4013e-04 - 4s/epoch - 6ms/step\n",
      "Epoch 18/25\n",
      "585/585 - 4s - loss: 0.0073 - accuracy: 0.9979 - val_loss: 0.0550 - val_accuracy: 0.9862 - lr: 4.1812e-04 - 4s/epoch - 6ms/step\n",
      "Epoch 19/25\n",
      "585/585 - 4s - loss: 0.0066 - accuracy: 0.9981 - val_loss: 0.0630 - val_accuracy: 0.9843 - lr: 3.9721e-04 - 4s/epoch - 7ms/step\n",
      "Epoch 20/25\n",
      "585/585 - 4s - loss: 0.0057 - accuracy: 0.9983 - val_loss: 0.0561 - val_accuracy: 0.9869 - lr: 3.7735e-04 - 4s/epoch - 7ms/step\n",
      "Epoch 21/25\n",
      "585/585 - 4s - loss: 0.0053 - accuracy: 0.9986 - val_loss: 0.0598 - val_accuracy: 0.9864 - lr: 3.5849e-04 - 4s/epoch - 7ms/step\n",
      "Epoch 22/25\n",
      "585/585 - 4s - loss: 0.0037 - accuracy: 0.9991 - val_loss: 0.0666 - val_accuracy: 0.9855 - lr: 3.4056e-04 - 4s/epoch - 7ms/step\n",
      "Epoch 23/25\n",
      "585/585 - 5s - loss: 0.0043 - accuracy: 0.9987 - val_loss: 0.0565 - val_accuracy: 0.9855 - lr: 3.2353e-04 - 5s/epoch - 8ms/step\n",
      "Epoch 24/25\n",
      "585/585 - 4s - loss: 0.0035 - accuracy: 0.9991 - val_loss: 0.0622 - val_accuracy: 0.9864 - lr: 3.0736e-04 - 4s/epoch - 7ms/step\n",
      "Epoch 25/25\n",
      "585/585 - 4s - loss: 0.0025 - accuracy: 0.9993 - val_loss: 0.0616 - val_accuracy: 0.9860 - lr: 2.9199e-04 - 4s/epoch - 7ms/step\n",
      "CNN 1: Epochs=25, Train accuracy=0.99928, Validation accuracy=0.98690\n"
     ]
    }
   ],
   "source": [
    "# Train the model using fit method\n",
    "history = model.fit(x=X_train2, y=Y_train2, batch_size=64, epochs=epochs, validation_data=(X_val2, Y_val2), callbacks=[annealer], verbose=2)\n",
    "\n",
    "# Print training and validation accuracy\n",
    "print(\"CNN {0:d}: Epochs={1:d}, Train accuracy={2:.5f}, Validation accuracy={3:.5f}\".format(\n",
    "    1, epochs, max(history.history['accuracy']), max(history.history['val_accuracy'])))"
   ]
  },
  {
   "cell_type": "code",
   "execution_count": 10,
   "metadata": {},
   "outputs": [
    {
     "data": {
      "image/png": "[encoded data removed]",
      "text/plain": [
       "<Figure size 1080x360 with 2 Axes>"
      ]
     },
     "metadata": {
      "needs_background": "light"
     },
     "output_type": "display_data"
    }
   ],
   "source": [
    "\n",
    "def show_final_history(history):\n",
    "        fig, ax = plt.subplots(1, 2, figsize=(15,5))\n",
    "        ax[0].set_title('loss')\n",
    "        ax[0].plot(history.epoch, history.history[\"loss\"], label=\"Train loss\")\n",
    "        ax[0].plot(history.epoch, history.history[\"val_loss\"], label=\"Validation loss\")\n",
    "        ax[1].set_title('acc')\n",
    "        ax[1].plot(history.epoch, history.history[\"accuracy\"], label=\"Train acc\")\n",
    "        ax[1].plot(history.epoch, history.history[\"val_accuracy\"], label=\"Validation acc\")\n",
    "        ax[0].legend()\n",
    "        ax[1].legend()\n",
    "\n",
    "show_final_history(history)\n"
   ]
  },
  {
   "cell_type": "markdown",
   "metadata": {
    "_uuid": "28b78b6502d2d1c993555725383f3e30728fa5be"
   },
   "source": [
    "# Ensemble 15 CNN predictions and submit"
   ]
  },
  {
   "cell_type": "code",
   "execution_count": 11,
   "metadata": {
    "_uuid": "6e4e01ffe692c34c555bdbf5d606611f9a128b9c"
   },
   "outputs": [
    {
     "name": "stdout",
     "output_type": "stream",
     "text": [
      "875/875 [==============================] - 2s 2ms/step\n"
     ]
    }
   ],
   "source": [
    "# ENSEMBLE PREDICTIONS AND SUBMIT\n",
    "results = np.zeros( (X_test.shape[0],10) ) \n",
    "#for j in range(nets):\n",
    "#results = results + model.predict(X_test)\n",
    "results = model.predict(X_test)\n",
    "results = np.argmax(results,axis = 1)\n",
    "results = pd.Series(results,name=\"Label\")\n",
    "#submission = pd.concat([pd.Series(range(1,28001),name = \"ImageId\"),results],axis = 1)\n",
    "#submission.to_csv(\"MNIST-CNN-ENSEMBLE.csv\",index=False)"
   ]
  },
  {
   "cell_type": "code",
   "execution_count": 1,
   "metadata": {
    "_kg_hide-input": true,
    "_uuid": "4a9d7710a3b69c2b48bc1687e5b6a27a7076f40a"
   },
   "outputs": [
    {
     "ename": "NameError",
     "evalue": "name 'plt' is not defined",
     "output_type": "error",
     "traceback": [
      "\u001b[0;31m---------------------------------------------------------------------------\u001b[0m",
      "\u001b[0;31mNameError\u001b[0m                                 Traceback (most recent call last)",
      "Input \u001b[0;32mIn [1]\u001b[0m, in \u001b[0;36m<cell line: 2>\u001b[0;34m()\u001b[0m\n\u001b[1;32m      1\u001b[0m \u001b[38;5;66;03m# PREVIEW PREDICTIONS\u001b[39;00m\n\u001b[0;32m----> 2\u001b[0m \u001b[43mplt\u001b[49m\u001b[38;5;241m.\u001b[39mfigure(figsize\u001b[38;5;241m=\u001b[39m(\u001b[38;5;241m15\u001b[39m,\u001b[38;5;241m6\u001b[39m))\n\u001b[1;32m      3\u001b[0m \u001b[38;5;28;01mfor\u001b[39;00m i \u001b[38;5;129;01min\u001b[39;00m \u001b[38;5;28mrange\u001b[39m(\u001b[38;5;241m40\u001b[39m):  \n\u001b[1;32m      4\u001b[0m     plt\u001b[38;5;241m.\u001b[39msubplot(\u001b[38;5;241m4\u001b[39m, \u001b[38;5;241m10\u001b[39m, i\u001b[38;5;241m+\u001b[39m\u001b[38;5;241m1\u001b[39m)\n",
      "\u001b[0;31mNameError\u001b[0m: name 'plt' is not defined"
     ]
    }
   ],
   "source": [
    "# PREVIEW PREDICTIONS\n",
    "plt.figure(figsize=(15,6))\n",
    "for i in range(40):  \n",
    "    plt.subplot(4, 10, i+1)\n",
    "    plt.imshow(X_test[i].reshape((28,28)),cmap=plt.cm.binary)\n",
    "    plt.title(\"Prediction: %d\" % results[i],y=0.9)\n",
    "    plt.axis('off')\n",
    "plt.subplots_adjust(wspace=0.3, hspace=-0.1)\n",
    "plt.show()"
   ]
  },
  {
   "cell_type": "code",
   "execution_count": 13,
   "metadata": {},
   "outputs": [
    {
     "name": "stdout",
     "output_type": "stream",
     "text": [
      "132/132 [==============================] - 0s 2ms/step\n"
     ]
    },
    {
     "data": {
      "image/png": "[encoded data removed]",
      "text/plain": [
       "<Figure size 432x288 with 2 Axes>"
      ]
     },
     "metadata": {
      "needs_background": "light"
     },
     "output_type": "display_data"
    }
   ],
   "source": [
    "#Confusion Matrix\n",
    "#create array for actual and predicted labels\n",
    "# results = np.zeros( (X_test.shape[0],10) ) \n",
    "# #for j in range(nets):\n",
    "results = model.predict(X_val2)\n",
    "results = np.argmax(results,axis = 1)\n",
    "results = pd.Series(results,name=\"Label\")\n",
    "\n",
    "Y_val2_labels = np.argmax(Y_val2, axis=1)\n",
    "# Y_test_labels = test[\"label\"]\n",
    "\n",
    "#compute confusion matrix\n",
    "cm = confusion_matrix(Y_val2_labels,results)\n",
    "\n",
    "#plot confusion matrix with seaborn\n",
    "\n",
    "sns.heatmap(cm, annot=True, fmt='g', cmap='viridis',\n",
    "            xticklabels=np.arange(10), yticklabels=np.arange(10), vmin=0, vmax=10)\n",
    "plt.xlabel('Prediction',fontsize=13)\n",
    "plt.ylabel('Actual',fontsize=13)\n",
    "plt.title('Confusion Matrix',fontsize=17)\n",
    "plt.show()\n"
   ]
  },
  {
   "cell_type": "code",
   "execution_count": 14,
   "metadata": {},
   "outputs": [
    {
     "name": "stdout",
     "output_type": "stream",
     "text": [
      "12/12 [==============================] - 0s 2ms/step\n",
      "[6 2 1 2 9 0 2 1 5 2 0 2 5 3 2 3 3 0 3 0 8 7 0 7 7 9 4 2 4 2 1 8 0 5 1 7 6\n",
      " 7 9 4 9 0 2 6 0 5 9 6 6 6 2 3 6 3 4 9 8 4 7 1 0 0 8 1 1 7 0 4 5 5 3 8 8 5\n",
      " 3 0 5 7 5 2 7 4 3 5 1 4 9 1 7 9 4 1 9 4 6 5 2 2 2 9 1 8 4 8 8 4 4 8 6 4 7\n",
      " 4 5 4 7 1 9 2 7 8 4 9 6 1 3 3 1 0 9 5 3 0 5 0 6 3 8 0 4 7 0 4 0 2 0 8 3 5\n",
      " 4 4 4 7 9 3 3 7 1 5 2 9 7 4 0 6 5 5 5 8 3 3 9 6 4 8 6 0 6 0 1 0 7 7 8 9 9\n",
      " 5 2 5 6 5 2 8 5 1 6 8 2 7 1 5 5 3 0 0 6 7 8 1 2 7 2 7 1 2 2 3 6 9 5 1 8 8\n",
      " 5 6 3 6 1 8 6 2 1 5 2 9 0 2 6 0 6 5 9 8 3 2 5 8 2 8 0 2 9 6 4 8 1 9 1 4 3\n",
      " 9 2 1 2 0 1 2 6 2 6 1 6 9 6 7 1 0 4 4 3 5 1 8 1 6 5 1 4 2 6 0 0 9 5 6 9 2\n",
      " 9 5 9 2 0 6 5 2 2 7 1 4 9 4 1 2 0 7 0 2 3 4 0 6 6 6 9 0 7 7 1 5 3 4 7 4 6\n",
      " 5 3 2 6 3 7 3 4 9 3 9 3 5 7 0 4 3 0 5 6 9 0 3 3 7 5 9 5 9 5 7 8 6 6 6 3 8\n",
      " 4 7 5 8 7 4 6 5]\n",
      "0      6\n",
      "1      2\n",
      "2      1\n",
      "3      2\n",
      "4      9\n",
      "      ..\n",
      "373    8\n",
      "374    7\n",
      "375    4\n",
      "376    6\n",
      "377    5\n",
      "Name: Label, Length: 378, dtype: int64\n"
     ]
    },
    {
     "data": {
      "image/png": "[encoded data removed]",
      "text/plain": [
       "<Figure size 432x288 with 2 Axes>"
      ]
     },
     "metadata": {
      "needs_background": "light"
     },
     "output_type": "display_data"
    }
   ],
   "source": [
    "#Confusion Matrix\n",
    "#create array for actual and predicted labels\n",
    "# results = np.zeros( (X_test.shape[0],10) ) \n",
    "# #for j in range(nets):\n",
    "results = model.predict(X_test2)\n",
    "results = np.argmax(results,axis = 1)\n",
    "results = pd.Series(results,name=\"Label\")\n",
    "\n",
    "Y_test2_labels = np.argmax(Y_test2, axis=1)\n",
    "print(Y_test2_labels)\n",
    "print(results)\n",
    "#Y_test_labels = Y_test2[\"label\"]\n",
    "\n",
    "#compute confusion matrix\n",
    "cm = confusion_matrix(Y_test2_labels,results)\n",
    "\n",
    "#plot confusion matrix with seaborn\n",
    "\n",
    "sns.heatmap(cm, annot=True, fmt='g', cmap='viridis',\n",
    "            xticklabels=np.arange(10), yticklabels=np.arange(10), vmin=0, vmax=10)\n",
    "plt.xlabel('Prediction',fontsize=13)\n",
    "plt.ylabel('Actual',fontsize=13)\n",
    "plt.title('Confusion Matrix',fontsize=17)\n",
    "plt.show()"
   ]
  },
  {
   "cell_type": "markdown",
   "metadata": {
    "_uuid": "b4d3e3246313e8bcb15c6b485540368d9297537b"
   },
   "source": [
    "# Kaggle Result\n",
    "![result](https://raw.githubusercontent.com/cdeotte/Kaggle_Images/main/2020/MNIST-result-DA4a.png)\n",
    "\n",
    "Wow, its amazing that convolution neural networks can classify handwritten digits so accurately; 99.75% is as good as a human can classify!! This ensemble of 15 CNNs was trained with Kaggle's \"train.csv\" 42,000 images plus 25 million more images created by rotating, scaling, and shifting Kaggle's \"train.csv\" images."
   ]
  },
  {
   "cell_type": "markdown",
   "metadata": {
    "_uuid": "372eaad5737aeef94f084c9c3317f6537db2cf2f"
   },
   "source": [
    "# How much more accuracy is possible?\n",
    "Not much. Here are the best published MNIST classifiers found on the internet:\n",
    "* 99.79% [Regularization of Neural Networks using DropConnect, 2013][1]\n",
    "* 99.77% [Multi-column Deep Neural Networks for Image Classification, 2012][2]\n",
    "* 99.77% [APAC: Augmented PAttern Classification with Neural Networks, 2015][3]\n",
    "* 99.76% [Batch-normalized Maxout Network in Network, 2015][4]\n",
    "* **99.75% [This Kaggle published kernel, 2018][12]**\n",
    "* 99.73% [Convolutional Neural Network Committees, 2011][13]\n",
    "* 99.71% [Generalized Pooling Functions in Convolutional Neural Networks, 2016][5]\n",
    "* More examples: [here][7], [here][8], and [here][9]  \n",
    "  \n",
    "On Kaggle's website, there are no published kernels more accurate than 99.70% besides the one you're reading. The few you will find posted were trained on the full original MNIST dataset (of 70,000 images) which contains known labels for Kaggle's unknown \"test.csv\" images so those models aren't actually that accurate. For example, [one kernel achieves 100% accuracy][10] training on the original MNIST dataset.  \n",
    "  \n",
    "Below is a annotated histogram of Kaggle submission scores. Each bar has range 0.1%. There are spikes at 99.1% and 99.6% accuracy corresponding with using convolutional neural networks. Frequency count decreases as scores exceed 99.69%, hitting a low at 99.8% which is just past the highest possible accuracy. Then frequency count spikes again at accuracies of 99.9% and 100.0% corresponding to mistakenly training with the full original MNIST dataset.  \n",
    "  \n",
    "![hist](https://raw.githubusercontent.com/cdeotte/Kaggle_Images/main/2020/KaggleMNISThist3.png)\n",
    "\n",
    "[1]:https://cs.nyu.edu/~wanli/dropc/dropc.pdf\n",
    "[2]:http://people.idsia.ch/~ciresan/data/cvpr2012.pdf\n",
    "[3]:https://arxiv.org/abs/1505.03229\n",
    "[4]:https://arxiv.org/abs/1511.02583\n",
    "[5]:https://arxiv.org/abs/1509.08985\n",
    "[7]:http://rodrigob.github.io/are_we_there_yet/build/classification_datasets_results.html\n",
    "[8]:http://yann.lecun.com/exdb/mnist/\n",
    "[9]:https://en.wikipedia.org/wiki/MNIST_database\n",
    "[10]:https://www.kaggle.com/cdeotte/mnist-perfect-100-using-knn/\n",
    "[12]:https://www.kaggle.com/cdeotte/35-million-images-0-99757-mnist\n",
    "[13]:http://people.idsia.ch/~ciresan/data/icdar2011a.pdf\n",
    "[14]:http://www.mva-org.jp/Proceedings/2015USB/papers/14-21.pdf"
   ]
  },
  {
   "cell_type": "markdown",
   "metadata": {
    "_uuid": "1381453d438dbfa2ef72b50f2ba23ea0622078ac"
   },
   "source": [
    "# How well can a human classify?\n",
    "Take the following quiz. Here are 50 of the most difficult images from Kaggle's \"test.csv\". For each image, write down a guess as to what digit it is. Then click the link below to see the correct answers. Hint: Nothing on the bottom row is what it seems and the top 4 rows contain 9 different digits!!  Good luck!  \n",
    "  \n",
    "    \n",
    "![quiz](https://raw.githubusercontent.com/cdeotte/Kaggle_Images/main/2020/unknown.png)  \n",
    "  \n",
    "  \n",
    "Click [here][1] for the answers. The ambiguity and/or mislabeling of certain images is why classifiers cannot achieve accuracy greater than 99.8%. Roughly speaking your overall accuracy on the entire MNIST test dataset would be equal to 100% minus 0.01% times the quantity you got wrong in this quiz.\n",
    "\n",
    "[1]:http://playagricola.com/Kaggle/answers.png"
   ]
  },
  {
   "cell_type": "markdown",
   "metadata": {
    "_uuid": "1d55f8c054432beabeed62024a998234c7cdb7b6"
   },
   "source": [
    "# Credits\n",
    "The code here was inspired by the following outstanding Kaggle kernels (in addition to the publications above).\n",
    "\n",
    "* [Yassine Ghouzam][1] - [Introduction to CNN Keras - 0.997 (top 6%)][2]\n",
    "* [Peter Grenholm][5] - [Welcome to deep learning (CNN 99%)][6]\n",
    "* [Ding Li][3] - [Digits Recognition With CNN Keras][4]\n",
    "* [Aditya Soni][7] - [MNIST with Keras for Beginners(.99457)][8]\n",
    "\n",
    "[1]:https://www.kaggle.com/yassineghouzam\n",
    "[2]:https://www.kaggle.com/yassineghouzam/introduction-to-cnn-keras-0-997-top-6\n",
    "[3]:https://www.kaggle.com/dingli\n",
    "[4]:https://www.kaggle.com/dingli/digits-recognition-with-cnn-keras\n",
    "[5]:https://www.kaggle.com/toregil\n",
    "[6]:https://www.kaggle.com/toregil/welcome-to-deep-learning-cnn-99/\n",
    "[8]:https://www.kaggle.com/adityaecdrid/mnist-with-keras-for-beginners-99457/\n",
    "[7]:https://www.kaggle.com/adityaecdrid"
   ]
  },
  {
   "cell_type": "markdown",
   "metadata": {
    "_uuid": "e716712230dda4fc08bc4705cfbbb3c9a9942228"
   },
   "source": [
    "# CNN Performance\n",
    "How can we evaluate the performance of a neural network? A trained neural network performs differently each time you train it since the weights are randomly initialized. Therefore, to assess a neural network's performance, we must train it many times and take an average of accuracy. The ensemble in this notebook was trained and evaluated 100 times!! (on the original MNIST dataset with 60k/10k split using the code template [here][1] on GitHub.) Below is a histogram of its accuracy.  \n",
    "  \n",
    "The maximum accuracy of an individual CNN was 99.81% with average accuracy 99.641% and standard deviation 0.047. The maximum accuracy of an ensemble of fifteen CNNs was 99.79% with average accuracy 99.745% and standard deviation 0.020.  \n",
    "  \n",
    "![hist](https://raw.githubusercontent.com/cdeotte/Kaggle_Images/main/2020/histBoth5.png)\n",
    "\n",
    "## Data augmentation hyper-parameters\n",
    "To determine the best hyper-parameters for data augmentation, grid search was used. Below is the accuracy of an ensemble (of 15 CNNs) with various data augmentation settings. The columns are `rotation` and `zoom`. The rows are `w_shift` and `h_shift`. For example: row 2, column 4 is `r = 15, z = 0.15, w = 0.1, h = 0.1`. Each cell is the average of 6 trials:  \n",
    "  \n",
    "            0      5     10      15     20     25     30  \n",
    "    0     99.70  99.70  99.70  99.70  99.69  99.65  99.62\n",
    "    0.1   99.73  99.73  99.75  99.75  99.72  99.67  99.64 \n",
    "    0.2                 99.72  99.72\n",
    "\n",
    "Below is the accuracy of a single CNN with various data augmentation settings. Each cell is the average of 30 trials.  \n",
    "  \n",
    "            0      5     10      15     20     25     30  \n",
    "    0     99.57  99.58  99.62  99.62  99.62  99.57  99.52\n",
    "    0.1   99.62  99.63  99.65  99.65  99.63  99.58  99.52  \n",
    "    0.2                 99.62  99.62\n",
    "  \n",
    "Lastly, I calculated the variance of the MNIST training images. The average center in pixels = (14.9, 15.2). The standard deviation of centers in pixels = (0.99, 1.34). That means that a setting of `w_shift = 0.07` together with `h_shift = 0.09` contains 95% of the centers. Similar analysis shows that a setting of `rotation_range = 13` together with `zoom_range = 0.13` contains 95% of the images.   \n",
    "  \n",
    "Based on this analysis, the settings of `rotation_range = 10, zoom_range = 0.10, w_shift = 0.1, and h_shift = 0.1` were chosen.\n",
    "\n",
    "[1]:https://github.com/cdeotte/MNIST-CNN-99.75"
   ]
  },
  {
   "cell_type": "code",
   "execution_count": null,
   "metadata": {},
   "outputs": [],
   "source": []
  }
 ],
 "metadata": {
  "kaggle": {
   "accelerator": "gpu",
   "dataSources": [
    {
     "databundleVersionId": 861823,
     "sourceId": 3004,
     "sourceType": "competition"
    }
   ],
   "dockerImageVersionId": 11105,
   "isGpuEnabled": true,
   "isInternetEnabled": false,
   "language": "python",
   "sourceType": "notebook"
  },
  "kernelspec": {
   "display_name": "Python 3 (ipykernel)",
   "language": "python",
   "name": "python3"
  },
  "language_info": {
   "codemirror_mode": {
    "name": "ipython",
    "version": 3
   },
   "file_extension": ".py",
   "mimetype": "text/x-python",
   "name": "python",
   "nbconvert_exporter": "python",
   "pygments_lexer": "ipython3",
   "version": "3.9.12"
  }
 },
 "nbformat": 4,
 "nbformat_minor": 4
}
